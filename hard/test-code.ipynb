{
 "cells": [
  {
   "cell_type": "code",
   "execution_count": 21,
   "metadata": {},
   "outputs": [
    {
     "name": "stdout",
     "output_type": "stream",
     "text": [
      "2\n",
      "1\n",
      "3\n",
      "2\n",
      "4\n",
      "3\n",
      "5\n",
      "1\n",
      "6\n",
      "5\n",
      "7\n",
      "5\n",
      "8\n",
      "3\n",
      "9\n",
      "5\n",
      "10\n",
      "1\n",
      "11\n",
      "10\n"
     ]
    },
    {
     "data": {
      "text/plain": [
       "True"
      ]
     },
     "execution_count": 21,
     "metadata": {},
     "output_type": "execute_result"
    }
   ],
   "source": [
    "def test_prime(val):\n",
    "    for d in range(2,int(val**.5)+1):\n",
    "        if val % d == 0 and d != val:\n",
    "            return False\n",
    "    return True\n",
    "\n",
    "test_prime(131)"
   ]
  }
 ],
 "metadata": {
  "kernelspec": {
   "display_name": "Python 3",
   "language": "python",
   "name": "python3"
  },
  "language_info": {
   "codemirror_mode": {
    "name": "ipython",
    "version": 3
   },
   "file_extension": ".py",
   "mimetype": "text/x-python",
   "name": "python",
   "nbconvert_exporter": "python",
   "pygments_lexer": "ipython3",
   "version": "3.10.6"
  },
  "orig_nbformat": 4,
  "vscode": {
   "interpreter": {
    "hash": "917c2fcfba35f78a8c6240e40e0068b9d5bef1e4004d7bc74bf2323334ee950e"
   }
  }
 },
 "nbformat": 4,
 "nbformat_minor": 2
}
